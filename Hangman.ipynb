{
 "cells": [
  {
   "cell_type": "code",
   "execution_count": 1,
   "id": "32609e2a-a872-4bf0-be30-b5eb1a453e4c",
   "metadata": {},
   "outputs": [
    {
     "name": "stdout",
     "output_type": "stream",
     "text": [
      "Welcome to Hangman!\n",
      "The word has 8 letters.\n",
      "_ _ _ _ _ _ _ _\n"
     ]
    },
    {
     "name": "stdin",
     "output_type": "stream",
     "text": [
      "Guess a letter:  h\n"
     ]
    },
    {
     "name": "stdout",
     "output_type": "stream",
     "text": [
      "_ _ _ _ _ _ _ _\n",
      "\n",
      "---------\n",
      "        O\n",
      "            \n",
      "Incorrect guesses: 1\n"
     ]
    },
    {
     "name": "stdin",
     "output_type": "stream",
     "text": [
      "Guess a letter:  h\n"
     ]
    },
    {
     "name": "stdout",
     "output_type": "stream",
     "text": [
      "You already guessed that letter.\n",
      "_ _ _ _ _ _ _ _\n",
      "\n",
      "---------\n",
      "        O\n",
      "       /\n",
      "            \n",
      "Incorrect guesses: 2\n"
     ]
    },
    {
     "name": "stdin",
     "output_type": "stream",
     "text": [
      "Guess a letter:  t\n"
     ]
    },
    {
     "name": "stdout",
     "output_type": "stream",
     "text": [
      "_ _ _ _ _ T _ _\n",
      "\n",
      "---------\n",
      "        O\n",
      "       /\n",
      "            \n",
      "Incorrect guesses: 2\n"
     ]
    },
    {
     "name": "stdin",
     "output_type": "stream",
     "text": [
      "Guess a letter:  y\n"
     ]
    },
    {
     "name": "stdout",
     "output_type": "stream",
     "text": [
      "_ _ _ _ _ T _ _\n",
      "\n",
      "---------\n",
      "        O\n",
      "       / \\\n",
      "            \n",
      "Incorrect guesses: 3\n"
     ]
    },
    {
     "name": "stdin",
     "output_type": "stream",
     "text": [
      "Guess a letter:  o\n"
     ]
    },
    {
     "name": "stdout",
     "output_type": "stream",
     "text": [
      "_ O _ _ _ T _ _\n",
      "\n",
      "---------\n",
      "        O\n",
      "       / \\\n",
      "            \n",
      "Incorrect guesses: 3\n"
     ]
    },
    {
     "name": "stdin",
     "output_type": "stream",
     "text": [
      "Guess a letter:  l\n"
     ]
    },
    {
     "name": "stdout",
     "output_type": "stream",
     "text": [
      "_ O _ _ _ T _ _\n",
      "\n",
      " ---------\n",
      "         O\n",
      "        /|\\\n",
      "            \n",
      "Incorrect guesses: 4\n"
     ]
    },
    {
     "name": "stdin",
     "output_type": "stream",
     "text": [
      "Guess a letter:  a\n"
     ]
    },
    {
     "name": "stdout",
     "output_type": "stream",
     "text": [
      "_ O _ _ _ T _ _\n",
      "\n",
      "---------\n",
      "        O\n",
      "       /|\\\n",
      "        |\n",
      "       /\n",
      "            \n",
      "Incorrect guesses: 5\n"
     ]
    },
    {
     "name": "stdin",
     "output_type": "stream",
     "text": [
      "Guess a letter:  c\n"
     ]
    },
    {
     "name": "stdout",
     "output_type": "stream",
     "text": [
      "C O _ _ _ T _ _\n",
      "\n",
      "---------\n",
      "        O\n",
      "       /|\\\n",
      "        |\n",
      "       /\n",
      "            \n",
      "Incorrect guesses: 5\n"
     ]
    },
    {
     "name": "stdin",
     "output_type": "stream",
     "text": [
      "Guess a letter:  m\n"
     ]
    },
    {
     "name": "stdout",
     "output_type": "stream",
     "text": [
      "C O M _ _ T _ _\n",
      "\n",
      "---------\n",
      "        O\n",
      "       /|\\\n",
      "        |\n",
      "       /\n",
      "            \n",
      "Incorrect guesses: 5\n"
     ]
    },
    {
     "name": "stdin",
     "output_type": "stream",
     "text": [
      "Guess a letter:  t\n"
     ]
    },
    {
     "name": "stdout",
     "output_type": "stream",
     "text": [
      "You already guessed that letter.\n",
      "C O M _ _ T _ _\n",
      "\n",
      "---------\n",
      "        O\n",
      "       /|\\\n",
      "        |\n",
      "       / \\\n",
      "            \n",
      "Incorrect guesses: 6\n",
      "Sorry, you lost! The word was: COMPUTER\n"
     ]
    }
   ],
   "source": [
    "# Import the hangmangame class from the Hangman.py module\n",
    "from Hangman import *\n",
    "\n",
    "# Initialize the game\n",
    "h = hangmangame()\n",
    "\n",
    "# Run the hangman game\n",
    "h.play()"
   ]
  },
  {
   "cell_type": "code",
   "execution_count": null,
   "id": "3aa4b741-4870-4497-8a19-9010e25cff72",
   "metadata": {},
   "outputs": [],
   "source": []
  }
 ],
 "metadata": {
  "kernelspec": {
   "display_name": "Python 3 (ipykernel)",
   "language": "python",
   "name": "python3"
  },
  "language_info": {
   "codemirror_mode": {
    "name": "ipython",
    "version": 3
   },
   "file_extension": ".py",
   "mimetype": "text/x-python",
   "name": "python",
   "nbconvert_exporter": "python",
   "pygments_lexer": "ipython3",
   "version": "3.11.7"
  }
 },
 "nbformat": 4,
 "nbformat_minor": 5
}
